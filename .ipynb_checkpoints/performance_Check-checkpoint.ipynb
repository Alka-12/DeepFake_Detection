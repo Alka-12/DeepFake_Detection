{
 "cells": [
  {
   "cell_type": "code",
   "execution_count": 1,
   "id": "2ad3cf98",
   "metadata": {},
   "outputs": [],
   "source": [
    "import numpy as np\n",
    "import pandas as pd\n",
    "import tensorflow as tf\n",
    "from sklearn import metrics\n",
    "import matplotlib.pyplot as plt\n",
    "from tensorflow.keras.models import Model, load_model\n",
    "from tensorflow.keras.preprocessing.image import ImageDataGenerator"
   ]
  },
  {
   "cell_type": "code",
   "execution_count": 2,
   "id": "8e3359b6",
   "metadata": {},
   "outputs": [],
   "source": [
    "def extract_layer_output(model, layer_name, data):\n",
    "    int_layer_op = model.get_layer(name=layer_name).output\n",
    "    int_layer_model = Model(inputs=model.input, outputs=int_layer_op)\n",
    "    int_layer_model.compile(loss='binary_crossentropy', optimizer='adam', metrics=['acc'])\n",
    "    return int_layer_model.predict(data)"
   ]
  },
  {
   "cell_type": "code",
   "execution_count": 3,
   "id": "5875223f",
   "metadata": {},
   "outputs": [],
   "source": [
    "def generate_df(arr, label):\n",
    "    df = pd.DataFrame(arr)\n",
    "    df['label'] = label\n",
    "    return df"
   ]
  },
  {
   "cell_type": "markdown",
   "id": "63f9c3a6",
   "metadata": {},
   "source": [
    "### Loading the Dataset"
   ]
  },
  {
   "cell_type": "code",
   "execution_count": 4,
   "id": "13ceee4f",
   "metadata": {},
   "outputs": [
    {
     "name": "stdout",
     "output_type": "stream",
     "text": [
      "Found 60000 images belonging to 2 classes.\n",
      "Found 12000 images belonging to 2 classes.\n"
     ]
    }
   ],
   "source": [
    "base_path = 'real_vs_fake/real-vs-fake/'\n",
    "image_gen = ImageDataGenerator(rescale=1./255.)\n",
    "\n",
    "train_flow = image_gen.flow_from_directory(\n",
    "    base_path + 'train/',\n",
    "    target_size=(224, 224),\n",
    "    batch_size=64,\n",
    "    shuffle=False,\n",
    "    class_mode='binary'\n",
    ")\n",
    "\n",
    "test_flow = image_gen.flow_from_directory(\n",
    "    base_path + 'test/',\n",
    "    target_size=(224, 224),\n",
    "    batch_size=1,\n",
    "    shuffle = False,\n",
    "    class_mode='binary'\n",
    ")"
   ]
  },
  {
   "cell_type": "code",
   "execution_count": 5,
   "id": "16b868f7",
   "metadata": {},
   "outputs": [],
   "source": [
    "y_test = test_flow.classes"
   ]
  },
  {
   "cell_type": "code",
   "execution_count": 6,
   "id": "656e2566",
   "metadata": {},
   "outputs": [
    {
     "name": "stdout",
     "output_type": "stream",
     "text": [
      "Found 60000 images belonging to 2 classes.\n",
      "Found 12000 images belonging to 2 classes.\n"
     ]
    }
   ],
   "source": [
    "## update train flow and test flow to use grayscale color mode\n",
    "gs_train_flow = image_gen.flow_from_directory(\n",
    "    base_path + 'train/',\n",
    "    target_size=(224, 224),\n",
    "    batch_size=64,\n",
    "    color_mode='grayscale',\n",
    "    class_mode='binary'\n",
    ")\n",
    "\n",
    "gs_test_flow = image_gen.flow_from_directory(\n",
    "    base_path + 'test/',\n",
    "    target_size=(224, 224),\n",
    "    batch_size=1,\n",
    "    color_mode='grayscale',\n",
    "    shuffle = False,\n",
    "    class_mode='binary'\n",
    ")\n",
    "\n",
    "gs_ytest = gs_test_flow.classes"
   ]
  },
  {
   "cell_type": "markdown",
   "id": "1f13a0ef",
   "metadata": {},
   "source": [
    "### DenseNet Model Trained on GrayScale Images"
   ]
  },
  {
   "cell_type": "code",
   "execution_count": 7,
   "id": "9ab4ff8c",
   "metadata": {},
   "outputs": [],
   "source": [
    "densenet_v3 = load_model('grey_densenet.h5')"
   ]
  },
  {
   "cell_type": "markdown",
   "id": "59af8ca8",
   "metadata": {},
   "source": [
    "#### Extract Intermediate Layer to get vector representation of the images"
   ]
  },
  {
   "cell_type": "code",
   "execution_count": 8,
   "id": "ae644e18",
   "metadata": {},
   "outputs": [
    {
     "name": "stdout",
     "output_type": "stream",
     "text": [
      "938/938 [==============================] - 3382s 4s/step\n"
     ]
    },
    {
     "data": {
      "text/plain": [
       "(60000, 1024)"
      ]
     },
     "execution_count": 8,
     "metadata": {},
     "output_type": "execute_result"
    }
   ],
   "source": [
    "int_output_dv3 = extract_layer_output(densenet_v3, 'global_average_pooling2d', gs_train_flow)\n",
    "int_output_dv3.shape"
   ]
  },
  {
   "cell_type": "code",
   "execution_count": 9,
   "id": "d3cb8c7d",
   "metadata": {},
   "outputs": [
    {
     "data": {
      "text/html": [
       "<div>\n",
       "<style scoped>\n",
       "    .dataframe tbody tr th:only-of-type {\n",
       "        vertical-align: middle;\n",
       "    }\n",
       "\n",
       "    .dataframe tbody tr th {\n",
       "        vertical-align: top;\n",
       "    }\n",
       "\n",
       "    .dataframe thead th {\n",
       "        text-align: right;\n",
       "    }\n",
       "</style>\n",
       "<table border=\"1\" class=\"dataframe\">\n",
       "  <thead>\n",
       "    <tr style=\"text-align: right;\">\n",
       "      <th></th>\n",
       "      <th>0</th>\n",
       "      <th>1</th>\n",
       "      <th>2</th>\n",
       "      <th>3</th>\n",
       "      <th>4</th>\n",
       "      <th>5</th>\n",
       "      <th>6</th>\n",
       "      <th>7</th>\n",
       "      <th>8</th>\n",
       "      <th>9</th>\n",
       "      <th>...</th>\n",
       "      <th>1015</th>\n",
       "      <th>1016</th>\n",
       "      <th>1017</th>\n",
       "      <th>1018</th>\n",
       "      <th>1019</th>\n",
       "      <th>1020</th>\n",
       "      <th>1021</th>\n",
       "      <th>1022</th>\n",
       "      <th>1023</th>\n",
       "      <th>label</th>\n",
       "    </tr>\n",
       "  </thead>\n",
       "  <tbody>\n",
       "    <tr>\n",
       "      <th>0</th>\n",
       "      <td>0.252021</td>\n",
       "      <td>0.204682</td>\n",
       "      <td>0.267328</td>\n",
       "      <td>0.056696</td>\n",
       "      <td>0.239364</td>\n",
       "      <td>0.184388</td>\n",
       "      <td>0.096532</td>\n",
       "      <td>0.184930</td>\n",
       "      <td>0.131451</td>\n",
       "      <td>0.418885</td>\n",
       "      <td>...</td>\n",
       "      <td>0.000000</td>\n",
       "      <td>0.111337</td>\n",
       "      <td>0.049446</td>\n",
       "      <td>0.071807</td>\n",
       "      <td>0.001609</td>\n",
       "      <td>0.009441</td>\n",
       "      <td>0.089467</td>\n",
       "      <td>0.044058</td>\n",
       "      <td>0.203860</td>\n",
       "      <td>0</td>\n",
       "    </tr>\n",
       "    <tr>\n",
       "      <th>1</th>\n",
       "      <td>0.296173</td>\n",
       "      <td>0.121617</td>\n",
       "      <td>0.260976</td>\n",
       "      <td>0.256229</td>\n",
       "      <td>0.288297</td>\n",
       "      <td>0.135929</td>\n",
       "      <td>0.089477</td>\n",
       "      <td>0.146609</td>\n",
       "      <td>0.144459</td>\n",
       "      <td>0.202970</td>\n",
       "      <td>...</td>\n",
       "      <td>0.000000</td>\n",
       "      <td>0.003590</td>\n",
       "      <td>0.020785</td>\n",
       "      <td>0.000000</td>\n",
       "      <td>0.000000</td>\n",
       "      <td>0.003977</td>\n",
       "      <td>0.000000</td>\n",
       "      <td>0.007353</td>\n",
       "      <td>0.173209</td>\n",
       "      <td>0</td>\n",
       "    </tr>\n",
       "    <tr>\n",
       "      <th>2</th>\n",
       "      <td>0.257362</td>\n",
       "      <td>0.382693</td>\n",
       "      <td>0.285236</td>\n",
       "      <td>0.166314</td>\n",
       "      <td>0.223520</td>\n",
       "      <td>0.181554</td>\n",
       "      <td>0.138381</td>\n",
       "      <td>0.238263</td>\n",
       "      <td>0.128627</td>\n",
       "      <td>0.392574</td>\n",
       "      <td>...</td>\n",
       "      <td>0.004318</td>\n",
       "      <td>0.192983</td>\n",
       "      <td>0.028295</td>\n",
       "      <td>0.200740</td>\n",
       "      <td>0.000794</td>\n",
       "      <td>0.003771</td>\n",
       "      <td>0.201449</td>\n",
       "      <td>0.191125</td>\n",
       "      <td>0.119748</td>\n",
       "      <td>0</td>\n",
       "    </tr>\n",
       "    <tr>\n",
       "      <th>3</th>\n",
       "      <td>0.399818</td>\n",
       "      <td>0.308993</td>\n",
       "      <td>0.323503</td>\n",
       "      <td>0.510905</td>\n",
       "      <td>0.348319</td>\n",
       "      <td>0.195331</td>\n",
       "      <td>0.187403</td>\n",
       "      <td>0.279174</td>\n",
       "      <td>0.175025</td>\n",
       "      <td>0.247285</td>\n",
       "      <td>...</td>\n",
       "      <td>0.002752</td>\n",
       "      <td>0.023576</td>\n",
       "      <td>0.089049</td>\n",
       "      <td>0.036427</td>\n",
       "      <td>0.003843</td>\n",
       "      <td>0.029385</td>\n",
       "      <td>0.024965</td>\n",
       "      <td>0.072875</td>\n",
       "      <td>0.389528</td>\n",
       "      <td>0</td>\n",
       "    </tr>\n",
       "    <tr>\n",
       "      <th>4</th>\n",
       "      <td>0.194421</td>\n",
       "      <td>0.424913</td>\n",
       "      <td>0.249233</td>\n",
       "      <td>0.268717</td>\n",
       "      <td>0.199482</td>\n",
       "      <td>0.226459</td>\n",
       "      <td>0.103236</td>\n",
       "      <td>0.199476</td>\n",
       "      <td>0.137896</td>\n",
       "      <td>0.445581</td>\n",
       "      <td>...</td>\n",
       "      <td>0.001806</td>\n",
       "      <td>0.424518</td>\n",
       "      <td>0.038503</td>\n",
       "      <td>0.407360</td>\n",
       "      <td>0.000000</td>\n",
       "      <td>0.007616</td>\n",
       "      <td>0.419439</td>\n",
       "      <td>0.366795</td>\n",
       "      <td>0.009805</td>\n",
       "      <td>0</td>\n",
       "    </tr>\n",
       "  </tbody>\n",
       "</table>\n",
       "<p>5 rows × 1025 columns</p>\n",
       "</div>"
      ],
      "text/plain": [
       "          0         1         2         3         4         5         6  \\\n",
       "0  0.252021  0.204682  0.267328  0.056696  0.239364  0.184388  0.096532   \n",
       "1  0.296173  0.121617  0.260976  0.256229  0.288297  0.135929  0.089477   \n",
       "2  0.257362  0.382693  0.285236  0.166314  0.223520  0.181554  0.138381   \n",
       "3  0.399818  0.308993  0.323503  0.510905  0.348319  0.195331  0.187403   \n",
       "4  0.194421  0.424913  0.249233  0.268717  0.199482  0.226459  0.103236   \n",
       "\n",
       "          7         8         9  ...      1015      1016      1017      1018  \\\n",
       "0  0.184930  0.131451  0.418885  ...  0.000000  0.111337  0.049446  0.071807   \n",
       "1  0.146609  0.144459  0.202970  ...  0.000000  0.003590  0.020785  0.000000   \n",
       "2  0.238263  0.128627  0.392574  ...  0.004318  0.192983  0.028295  0.200740   \n",
       "3  0.279174  0.175025  0.247285  ...  0.002752  0.023576  0.089049  0.036427   \n",
       "4  0.199476  0.137896  0.445581  ...  0.001806  0.424518  0.038503  0.407360   \n",
       "\n",
       "       1019      1020      1021      1022      1023  label  \n",
       "0  0.001609  0.009441  0.089467  0.044058  0.203860      0  \n",
       "1  0.000000  0.003977  0.000000  0.007353  0.173209      0  \n",
       "2  0.000794  0.003771  0.201449  0.191125  0.119748      0  \n",
       "3  0.003843  0.029385  0.024965  0.072875  0.389528      0  \n",
       "4  0.000000  0.007616  0.419439  0.366795  0.009805      0  \n",
       "\n",
       "[5 rows x 1025 columns]"
      ]
     },
     "execution_count": 9,
     "metadata": {},
     "output_type": "execute_result"
    }
   ],
   "source": [
    "int_output_dv3 = generate_df(int_output_dv3, gs_train_flow.classes)\n",
    "int_output_dv3.head()"
   ]
  },
  {
   "cell_type": "code",
   "execution_count": 10,
   "id": "722eae40",
   "metadata": {},
   "outputs": [
    {
     "data": {
      "text/html": [
       "<div>\n",
       "<style scoped>\n",
       "    .dataframe tbody tr th:only-of-type {\n",
       "        vertical-align: middle;\n",
       "    }\n",
       "\n",
       "    .dataframe tbody tr th {\n",
       "        vertical-align: top;\n",
       "    }\n",
       "\n",
       "    .dataframe thead th {\n",
       "        text-align: right;\n",
       "    }\n",
       "</style>\n",
       "<table border=\"1\" class=\"dataframe\">\n",
       "  <thead>\n",
       "    <tr style=\"text-align: right;\">\n",
       "      <th></th>\n",
       "      <th>0</th>\n",
       "      <th>1</th>\n",
       "      <th>2</th>\n",
       "      <th>3</th>\n",
       "      <th>4</th>\n",
       "      <th>5</th>\n",
       "      <th>6</th>\n",
       "      <th>7</th>\n",
       "      <th>8</th>\n",
       "      <th>9</th>\n",
       "      <th>...</th>\n",
       "      <th>1015</th>\n",
       "      <th>1016</th>\n",
       "      <th>1017</th>\n",
       "      <th>1018</th>\n",
       "      <th>1019</th>\n",
       "      <th>1020</th>\n",
       "      <th>1021</th>\n",
       "      <th>1022</th>\n",
       "      <th>1023</th>\n",
       "      <th>label</th>\n",
       "    </tr>\n",
       "  </thead>\n",
       "  <tbody>\n",
       "    <tr>\n",
       "      <th>59995</th>\n",
       "      <td>0.005461</td>\n",
       "      <td>0.366521</td>\n",
       "      <td>0.256456</td>\n",
       "      <td>0.459572</td>\n",
       "      <td>0.003027</td>\n",
       "      <td>0.201093</td>\n",
       "      <td>0.124978</td>\n",
       "      <td>0.231681</td>\n",
       "      <td>0.214907</td>\n",
       "      <td>0.266551</td>\n",
       "      <td>...</td>\n",
       "      <td>0.058808</td>\n",
       "      <td>1.328000</td>\n",
       "      <td>0.129120</td>\n",
       "      <td>1.376608</td>\n",
       "      <td>0.007772</td>\n",
       "      <td>0.030916</td>\n",
       "      <td>1.344236</td>\n",
       "      <td>1.332743</td>\n",
       "      <td>0.009502</td>\n",
       "      <td>1</td>\n",
       "    </tr>\n",
       "    <tr>\n",
       "      <th>59996</th>\n",
       "      <td>0.048956</td>\n",
       "      <td>0.233033</td>\n",
       "      <td>0.401760</td>\n",
       "      <td>0.696990</td>\n",
       "      <td>0.046319</td>\n",
       "      <td>0.143181</td>\n",
       "      <td>0.099451</td>\n",
       "      <td>0.177301</td>\n",
       "      <td>0.194124</td>\n",
       "      <td>0.226115</td>\n",
       "      <td>...</td>\n",
       "      <td>0.000000</td>\n",
       "      <td>0.270041</td>\n",
       "      <td>0.003839</td>\n",
       "      <td>0.257505</td>\n",
       "      <td>0.000000</td>\n",
       "      <td>0.000000</td>\n",
       "      <td>0.252002</td>\n",
       "      <td>0.299104</td>\n",
       "      <td>0.000000</td>\n",
       "      <td>1</td>\n",
       "    </tr>\n",
       "    <tr>\n",
       "      <th>59997</th>\n",
       "      <td>0.146476</td>\n",
       "      <td>0.250416</td>\n",
       "      <td>0.352661</td>\n",
       "      <td>0.323823</td>\n",
       "      <td>0.121858</td>\n",
       "      <td>0.112074</td>\n",
       "      <td>0.102432</td>\n",
       "      <td>0.212804</td>\n",
       "      <td>0.149124</td>\n",
       "      <td>0.252499</td>\n",
       "      <td>...</td>\n",
       "      <td>0.001364</td>\n",
       "      <td>0.201296</td>\n",
       "      <td>0.012653</td>\n",
       "      <td>0.203172</td>\n",
       "      <td>0.000000</td>\n",
       "      <td>0.001109</td>\n",
       "      <td>0.203012</td>\n",
       "      <td>0.174697</td>\n",
       "      <td>0.000000</td>\n",
       "      <td>1</td>\n",
       "    </tr>\n",
       "    <tr>\n",
       "      <th>59998</th>\n",
       "      <td>0.345417</td>\n",
       "      <td>0.034922</td>\n",
       "      <td>0.482006</td>\n",
       "      <td>0.237512</td>\n",
       "      <td>0.294589</td>\n",
       "      <td>0.100300</td>\n",
       "      <td>0.085177</td>\n",
       "      <td>0.096395</td>\n",
       "      <td>0.232837</td>\n",
       "      <td>0.114530</td>\n",
       "      <td>...</td>\n",
       "      <td>0.000013</td>\n",
       "      <td>0.000000</td>\n",
       "      <td>0.056678</td>\n",
       "      <td>0.000000</td>\n",
       "      <td>0.000000</td>\n",
       "      <td>0.011187</td>\n",
       "      <td>0.000000</td>\n",
       "      <td>0.001413</td>\n",
       "      <td>0.374242</td>\n",
       "      <td>1</td>\n",
       "    </tr>\n",
       "    <tr>\n",
       "      <th>59999</th>\n",
       "      <td>0.023143</td>\n",
       "      <td>0.470772</td>\n",
       "      <td>0.313663</td>\n",
       "      <td>0.502004</td>\n",
       "      <td>0.020217</td>\n",
       "      <td>0.130905</td>\n",
       "      <td>0.137238</td>\n",
       "      <td>0.295729</td>\n",
       "      <td>0.214667</td>\n",
       "      <td>0.250364</td>\n",
       "      <td>...</td>\n",
       "      <td>0.061095</td>\n",
       "      <td>1.325829</td>\n",
       "      <td>0.169494</td>\n",
       "      <td>1.379555</td>\n",
       "      <td>0.006624</td>\n",
       "      <td>0.056504</td>\n",
       "      <td>1.340195</td>\n",
       "      <td>1.343282</td>\n",
       "      <td>0.039779</td>\n",
       "      <td>1</td>\n",
       "    </tr>\n",
       "  </tbody>\n",
       "</table>\n",
       "<p>5 rows × 1025 columns</p>\n",
       "</div>"
      ],
      "text/plain": [
       "              0         1         2         3         4         5         6  \\\n",
       "59995  0.005461  0.366521  0.256456  0.459572  0.003027  0.201093  0.124978   \n",
       "59996  0.048956  0.233033  0.401760  0.696990  0.046319  0.143181  0.099451   \n",
       "59997  0.146476  0.250416  0.352661  0.323823  0.121858  0.112074  0.102432   \n",
       "59998  0.345417  0.034922  0.482006  0.237512  0.294589  0.100300  0.085177   \n",
       "59999  0.023143  0.470772  0.313663  0.502004  0.020217  0.130905  0.137238   \n",
       "\n",
       "              7         8         9  ...      1015      1016      1017  \\\n",
       "59995  0.231681  0.214907  0.266551  ...  0.058808  1.328000  0.129120   \n",
       "59996  0.177301  0.194124  0.226115  ...  0.000000  0.270041  0.003839   \n",
       "59997  0.212804  0.149124  0.252499  ...  0.001364  0.201296  0.012653   \n",
       "59998  0.096395  0.232837  0.114530  ...  0.000013  0.000000  0.056678   \n",
       "59999  0.295729  0.214667  0.250364  ...  0.061095  1.325829  0.169494   \n",
       "\n",
       "           1018      1019      1020      1021      1022      1023  label  \n",
       "59995  1.376608  0.007772  0.030916  1.344236  1.332743  0.009502      1  \n",
       "59996  0.257505  0.000000  0.000000  0.252002  0.299104  0.000000      1  \n",
       "59997  0.203172  0.000000  0.001109  0.203012  0.174697  0.000000      1  \n",
       "59998  0.000000  0.000000  0.011187  0.000000  0.001413  0.374242      1  \n",
       "59999  1.379555  0.006624  0.056504  1.340195  1.343282  0.039779      1  \n",
       "\n",
       "[5 rows x 1025 columns]"
      ]
     },
     "execution_count": 10,
     "metadata": {},
     "output_type": "execute_result"
    }
   ],
   "source": [
    "int_output_dv3.tail()"
   ]
  },
  {
   "cell_type": "code",
   "execution_count": 11,
   "id": "883c30ec",
   "metadata": {},
   "outputs": [],
   "source": [
    "int_output_dv3.to_csv('gery_densenet_rep.csv', index=False)"
   ]
  },
  {
   "cell_type": "markdown",
   "id": "07970132",
   "metadata": {},
   "source": [
    "### Predictions"
   ]
  },
  {
   "cell_type": "code",
   "execution_count": 12,
   "id": "741f8dea",
   "metadata": {},
   "outputs": [
    {
     "name": "stdout",
     "output_type": "stream",
     "text": [
      "12000/12000 [==============================] - 1194s 99ms/step\n"
     ]
    }
   ],
   "source": [
    "y_pred_dv3 = densenet_v3.predict(gs_test_flow)"
   ]
  },
  {
   "cell_type": "markdown",
   "id": "ffa13fd6",
   "metadata": {},
   "source": [
    "### Evaluation Report"
   ]
  },
  {
   "cell_type": "code",
   "execution_count": 13,
   "id": "cee4c613",
   "metadata": {},
   "outputs": [
    {
     "name": "stdout",
     "output_type": "stream",
     "text": [
      "ROC AUC Score: 0.9833113194444444\n",
      "AP Score: 0.9821520912891872\n",
      "\n",
      "              precision    recall  f1-score   support\n",
      "\n",
      "           0       0.94      0.93      0.94      6000\n",
      "           1       0.93      0.95      0.94      6000\n",
      "\n",
      "    accuracy                           0.94     12000\n",
      "   macro avg       0.94      0.94      0.94     12000\n",
      "weighted avg       0.94      0.94      0.94     12000\n",
      "\n"
     ]
    }
   ],
   "source": [
    "print(\"ROC AUC Score:\", metrics.roc_auc_score(gs_ytest, y_pred_dv3))\n",
    "print(\"AP Score:\", metrics.average_precision_score(gs_ytest, y_pred_dv3))\n",
    "print()\n",
    "print(metrics.classification_report(gs_ytest, y_pred_dv3 > 0.5))"
   ]
  },
  {
   "cell_type": "markdown",
   "id": "5f7febc8",
   "metadata": {},
   "source": [
    "### DenseNet Model "
   ]
  },
  {
   "cell_type": "code",
   "execution_count": 14,
   "id": "7dfc313b",
   "metadata": {},
   "outputs": [],
   "source": [
    "densenet_v1 = load_model('denseNet_model.h5')"
   ]
  },
  {
   "cell_type": "markdown",
   "id": "cbdc3b0d",
   "metadata": {},
   "source": [
    "#### Extract Intermediate Layer to get vector representation of the images"
   ]
  },
  {
   "cell_type": "code",
   "execution_count": 15,
   "id": "53558bc8",
   "metadata": {},
   "outputs": [
    {
     "name": "stdout",
     "output_type": "stream",
     "text": [
      "938/938 [==============================] - 3223s 3s/step\n"
     ]
    },
    {
     "data": {
      "text/plain": [
       "(60000, 1024)"
      ]
     },
     "execution_count": 15,
     "metadata": {},
     "output_type": "execute_result"
    }
   ],
   "source": [
    "int_output_dv1 = extract_layer_output(densenet_v1, 'global_average_pooling2d', train_flow)\n",
    "int_output_dv1.shape"
   ]
  },
  {
   "cell_type": "code",
   "execution_count": 16,
   "id": "5779208e",
   "metadata": {},
   "outputs": [
    {
     "data": {
      "text/html": [
       "<div>\n",
       "<style scoped>\n",
       "    .dataframe tbody tr th:only-of-type {\n",
       "        vertical-align: middle;\n",
       "    }\n",
       "\n",
       "    .dataframe tbody tr th {\n",
       "        vertical-align: top;\n",
       "    }\n",
       "\n",
       "    .dataframe thead th {\n",
       "        text-align: right;\n",
       "    }\n",
       "</style>\n",
       "<table border=\"1\" class=\"dataframe\">\n",
       "  <thead>\n",
       "    <tr style=\"text-align: right;\">\n",
       "      <th></th>\n",
       "      <th>0</th>\n",
       "      <th>1</th>\n",
       "      <th>2</th>\n",
       "      <th>3</th>\n",
       "      <th>4</th>\n",
       "      <th>5</th>\n",
       "      <th>6</th>\n",
       "      <th>7</th>\n",
       "      <th>8</th>\n",
       "      <th>9</th>\n",
       "      <th>...</th>\n",
       "      <th>1015</th>\n",
       "      <th>1016</th>\n",
       "      <th>1017</th>\n",
       "      <th>1018</th>\n",
       "      <th>1019</th>\n",
       "      <th>1020</th>\n",
       "      <th>1021</th>\n",
       "      <th>1022</th>\n",
       "      <th>1023</th>\n",
       "      <th>label</th>\n",
       "    </tr>\n",
       "  </thead>\n",
       "  <tbody>\n",
       "    <tr>\n",
       "      <th>0</th>\n",
       "      <td>0.247184</td>\n",
       "      <td>0.156961</td>\n",
       "      <td>0.143793</td>\n",
       "      <td>0.132179</td>\n",
       "      <td>0.191950</td>\n",
       "      <td>0.530638</td>\n",
       "      <td>0.032250</td>\n",
       "      <td>0.277092</td>\n",
       "      <td>0.275295</td>\n",
       "      <td>0.296485</td>\n",
       "      <td>...</td>\n",
       "      <td>0.622439</td>\n",
       "      <td>0.013996</td>\n",
       "      <td>0.714794</td>\n",
       "      <td>0.501137</td>\n",
       "      <td>0.642204</td>\n",
       "      <td>0.113024</td>\n",
       "      <td>0.015427</td>\n",
       "      <td>0.008663</td>\n",
       "      <td>0.556615</td>\n",
       "      <td>0</td>\n",
       "    </tr>\n",
       "    <tr>\n",
       "      <th>1</th>\n",
       "      <td>0.169659</td>\n",
       "      <td>0.152344</td>\n",
       "      <td>0.157367</td>\n",
       "      <td>0.063578</td>\n",
       "      <td>0.158936</td>\n",
       "      <td>0.296702</td>\n",
       "      <td>0.023955</td>\n",
       "      <td>0.159277</td>\n",
       "      <td>0.227932</td>\n",
       "      <td>0.177019</td>\n",
       "      <td>...</td>\n",
       "      <td>0.227097</td>\n",
       "      <td>0.004605</td>\n",
       "      <td>0.278615</td>\n",
       "      <td>0.353038</td>\n",
       "      <td>0.247399</td>\n",
       "      <td>0.139087</td>\n",
       "      <td>0.001929</td>\n",
       "      <td>0.001517</td>\n",
       "      <td>0.190571</td>\n",
       "      <td>0</td>\n",
       "    </tr>\n",
       "    <tr>\n",
       "      <th>2</th>\n",
       "      <td>0.048215</td>\n",
       "      <td>0.245627</td>\n",
       "      <td>0.225056</td>\n",
       "      <td>0.118945</td>\n",
       "      <td>0.185985</td>\n",
       "      <td>0.063453</td>\n",
       "      <td>0.041043</td>\n",
       "      <td>0.167086</td>\n",
       "      <td>0.350523</td>\n",
       "      <td>0.350896</td>\n",
       "      <td>...</td>\n",
       "      <td>0.856468</td>\n",
       "      <td>0.033317</td>\n",
       "      <td>1.005297</td>\n",
       "      <td>0.000000</td>\n",
       "      <td>0.887778</td>\n",
       "      <td>0.027982</td>\n",
       "      <td>0.021423</td>\n",
       "      <td>0.014613</td>\n",
       "      <td>0.775589</td>\n",
       "      <td>0</td>\n",
       "    </tr>\n",
       "    <tr>\n",
       "      <th>3</th>\n",
       "      <td>0.060335</td>\n",
       "      <td>0.200556</td>\n",
       "      <td>0.176066</td>\n",
       "      <td>0.047775</td>\n",
       "      <td>0.203520</td>\n",
       "      <td>0.172542</td>\n",
       "      <td>0.013014</td>\n",
       "      <td>0.220664</td>\n",
       "      <td>0.456706</td>\n",
       "      <td>0.035538</td>\n",
       "      <td>...</td>\n",
       "      <td>0.000000</td>\n",
       "      <td>0.000158</td>\n",
       "      <td>0.016500</td>\n",
       "      <td>0.004234</td>\n",
       "      <td>0.001043</td>\n",
       "      <td>0.279498</td>\n",
       "      <td>0.000000</td>\n",
       "      <td>0.000169</td>\n",
       "      <td>0.000000</td>\n",
       "      <td>0</td>\n",
       "    </tr>\n",
       "    <tr>\n",
       "      <th>4</th>\n",
       "      <td>0.210073</td>\n",
       "      <td>0.083397</td>\n",
       "      <td>0.105579</td>\n",
       "      <td>0.081817</td>\n",
       "      <td>0.158027</td>\n",
       "      <td>0.612202</td>\n",
       "      <td>0.017667</td>\n",
       "      <td>0.237914</td>\n",
       "      <td>0.344441</td>\n",
       "      <td>0.063525</td>\n",
       "      <td>...</td>\n",
       "      <td>0.022345</td>\n",
       "      <td>0.000000</td>\n",
       "      <td>0.058239</td>\n",
       "      <td>0.416362</td>\n",
       "      <td>0.032158</td>\n",
       "      <td>0.213046</td>\n",
       "      <td>0.000000</td>\n",
       "      <td>0.000381</td>\n",
       "      <td>0.008518</td>\n",
       "      <td>0</td>\n",
       "    </tr>\n",
       "  </tbody>\n",
       "</table>\n",
       "<p>5 rows × 1025 columns</p>\n",
       "</div>"
      ],
      "text/plain": [
       "          0         1         2         3         4         5         6  \\\n",
       "0  0.247184  0.156961  0.143793  0.132179  0.191950  0.530638  0.032250   \n",
       "1  0.169659  0.152344  0.157367  0.063578  0.158936  0.296702  0.023955   \n",
       "2  0.048215  0.245627  0.225056  0.118945  0.185985  0.063453  0.041043   \n",
       "3  0.060335  0.200556  0.176066  0.047775  0.203520  0.172542  0.013014   \n",
       "4  0.210073  0.083397  0.105579  0.081817  0.158027  0.612202  0.017667   \n",
       "\n",
       "          7         8         9  ...      1015      1016      1017      1018  \\\n",
       "0  0.277092  0.275295  0.296485  ...  0.622439  0.013996  0.714794  0.501137   \n",
       "1  0.159277  0.227932  0.177019  ...  0.227097  0.004605  0.278615  0.353038   \n",
       "2  0.167086  0.350523  0.350896  ...  0.856468  0.033317  1.005297  0.000000   \n",
       "3  0.220664  0.456706  0.035538  ...  0.000000  0.000158  0.016500  0.004234   \n",
       "4  0.237914  0.344441  0.063525  ...  0.022345  0.000000  0.058239  0.416362   \n",
       "\n",
       "       1019      1020      1021      1022      1023  label  \n",
       "0  0.642204  0.113024  0.015427  0.008663  0.556615      0  \n",
       "1  0.247399  0.139087  0.001929  0.001517  0.190571      0  \n",
       "2  0.887778  0.027982  0.021423  0.014613  0.775589      0  \n",
       "3  0.001043  0.279498  0.000000  0.000169  0.000000      0  \n",
       "4  0.032158  0.213046  0.000000  0.000381  0.008518      0  \n",
       "\n",
       "[5 rows x 1025 columns]"
      ]
     },
     "execution_count": 16,
     "metadata": {},
     "output_type": "execute_result"
    }
   ],
   "source": [
    "int_output_dv1 = generate_df(int_output_dv1, train_flow.classes)\n",
    "int_output_dv1.head()"
   ]
  },
  {
   "cell_type": "code",
   "execution_count": 17,
   "id": "75607434",
   "metadata": {},
   "outputs": [],
   "source": [
    "int_output_dv1.to_csv('RGB_DenseNet_rep.csv', index=False)"
   ]
  },
  {
   "cell_type": "markdown",
   "id": "5be19280",
   "metadata": {},
   "source": [
    "### Predictions"
   ]
  },
  {
   "cell_type": "code",
   "execution_count": 18,
   "id": "d7118149",
   "metadata": {},
   "outputs": [
    {
     "name": "stdout",
     "output_type": "stream",
     "text": [
      "12000/12000 [==============================] - 1255s 104ms/step\n"
     ]
    }
   ],
   "source": [
    "y_pred_dv1 = densenet_v1.predict(test_flow)"
   ]
  },
  {
   "cell_type": "markdown",
   "id": "c30aade1",
   "metadata": {},
   "source": [
    "### Evaluation Report"
   ]
  },
  {
   "cell_type": "code",
   "execution_count": 19,
   "id": "aa0c396c",
   "metadata": {},
   "outputs": [
    {
     "name": "stdout",
     "output_type": "stream",
     "text": [
      "ROC AUC Score: 0.9670040416666665\n",
      "AP Score: 0.9651211068699082\n",
      "\n",
      "              precision    recall  f1-score   support\n",
      "\n",
      "           0       0.92      0.89      0.90      6000\n",
      "           1       0.89      0.92      0.91      6000\n",
      "\n",
      "    accuracy                           0.90     12000\n",
      "   macro avg       0.90      0.90      0.90     12000\n",
      "weighted avg       0.90      0.90      0.90     12000\n",
      "\n"
     ]
    }
   ],
   "source": [
    "print(\"ROC AUC Score:\", metrics.roc_auc_score(y_test, y_pred_dv1))\n",
    "print(\"AP Score:\", metrics.average_precision_score(y_test, y_pred_dv1))\n",
    "print()\n",
    "print(metrics.classification_report(y_test, y_pred_dv1 > 0.5))"
   ]
  },
  {
   "cell_type": "code",
   "execution_count": null,
   "id": "b17ab44d",
   "metadata": {},
   "outputs": [],
   "source": []
  },
  {
   "cell_type": "markdown",
   "id": "ae51818e",
   "metadata": {},
   "source": [
    "### Comparison"
   ]
  },
  {
   "cell_type": "code",
   "execution_count": 20,
   "id": "327cd03b",
   "metadata": {},
   "outputs": [],
   "source": [
    "dv1_fpr, dv1_tpr, _ = metrics.roc_curve(y_test, y_pred_dv1)\n",
    "dv1_roc_auc = metrics.auc(dv1_fpr, dv1_tpr)\n",
    "\n",
    "dv3_fpr, dv3_tpr, _ = metrics.roc_curve(gs_ytest, y_pred_dv3)\n",
    "dv3_roc_auc = metrics.auc(dv3_fpr, dv3_tpr)"
   ]
  },
  {
   "cell_type": "code",
   "execution_count": 21,
   "id": "ced71568",
   "metadata": {},
   "outputs": [
    {
     "data": {
      "image/png": "[encoded data removed]",
      "text/plain": [
       "<Figure size 720x576 with 1 Axes>"
      ]
     },
     "metadata": {
      "needs_background": "light"
     },
     "output_type": "display_data"
    }
   ],
   "source": [
    "plt.figure(figsize=(10,8))\n",
    "lw = 2\n",
    "plt.plot(dv1_fpr, dv1_tpr, color='darkorange', lw=lw, label='DenseNet (area = %0.2f)' % dv1_roc_auc)\n",
    "plt.plot(dv3_fpr, dv3_tpr, color='green', lw=lw, label='Grayscale DenseNet (area = %0.2f)' % dv3_roc_auc)\n",
    "plt.plot([0, 1], [0, 1], color='gray', lw=lw, linestyle='--')\n",
    "plt.xlim([0.0, 1.0])\n",
    "plt.ylim([0.0, 1.05])\n",
    "plt.xlabel('False Positive Rate')\n",
    "plt.ylabel('True Positive Rate')\n",
    "plt.title('ROC')\n",
    "plt.legend(loc=\"lower right\")\n",
    "plt.show()"
   ]
  },
  {
   "cell_type": "code",
   "execution_count": null,
   "id": "0a53c2c8",
   "metadata": {},
   "outputs": [],
   "source": []
  }
 ],
 "metadata": {
  "kernelspec": {
   "display_name": "Python 3 (ipykernel)",
   "language": "python",
   "name": "python3"
  },
  "language_info": {
   "codemirror_mode": {
    "name": "ipython",
    "version": 3
   },
   "file_extension": ".py",
   "mimetype": "text/x-python",
   "name": "python",
   "nbconvert_exporter": "python",
   "pygments_lexer": "ipython3",
   "version": "3.9.12"
  }
 },
 "nbformat": 4,
 "nbformat_minor": 5
}
