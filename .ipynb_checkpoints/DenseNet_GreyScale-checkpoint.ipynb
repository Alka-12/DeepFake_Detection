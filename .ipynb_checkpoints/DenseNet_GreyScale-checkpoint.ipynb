{
 "cells": [
  {
   "cell_type": "code",
   "execution_count": 1,
   "id": "6cc1eeba",
   "metadata": {},
   "outputs": [],
   "source": [
    "import cv2\n",
    "import numpy as np\n",
    "from tensorflow.keras import layers\n",
    "from tensorflow.keras.applications import DenseNet121\n",
    "from tensorflow.keras.callbacks import Callback, ModelCheckpoint\n",
    "from tensorflow.keras.preprocessing.image import ImageDataGenerator\n",
    "from tensorflow.keras.models import Sequential\n",
    "from tensorflow.keras.optimizers import Adam\n",
    "import matplotlib.pyplot as plt\n",
    "import pandas as pd\n",
    "from sklearn.model_selection import train_test_split\n",
    "from sklearn import metrics\n",
    "import tensorflow as tf\n",
    "from tqdm import tqdm"
   ]
  },
  {
   "cell_type": "code",
   "execution_count": 2,
   "id": "bcb1f599",
   "metadata": {},
   "outputs": [],
   "source": [
    "def build_model(pretrained):\n",
    "    model = Sequential([\n",
    "        pretrained,\n",
    "        layers.GlobalAveragePooling2D(),\n",
    "        layers.Dense(1, activation='sigmoid')\n",
    "    ])\n",
    "    \n",
    "    model.compile(\n",
    "        loss='binary_crossentropy',\n",
    "        optimizer=Adam(),\n",
    "        metrics=['accuracy']\n",
    "    )\n",
    "    \n",
    "    return model"
   ]
  },
  {
   "cell_type": "code",
   "execution_count": 3,
   "id": "8873053a",
   "metadata": {},
   "outputs": [],
   "source": [
    "\n",
    "\"\"\"\n",
    "Plot the training and validation loss\n",
    "epochs - list of epoch numbers\n",
    "loss - training loss for each epoch\n",
    "val_loss - validation loss for each epoch\n",
    "\"\"\"\n",
    "def plot_loss(epochs, loss, val_loss):\n",
    "    plt.plot(epochs, loss, 'bo', label='Training Loss')\n",
    "    plt.plot(epochs, val_loss, 'orange', label = 'Validation Loss')\n",
    "    plt.title('Training and Validation Loss')\n",
    "    plt.legend()\n",
    "    plt.show()\n",
    "    \n",
    "    \n",
    "\"\"\"\n",
    "Plot the training and validation accuracy\n",
    "epochs - list of epoch numbers\n",
    "acc - training accuracy for each epoch\n",
    "val_acc - validation accuracy for each epoch\n",
    "\"\"\"\n",
    "def plot_accuracy(epochs, acc, val_acc):\n",
    "    plt.plot(epochs, acc, 'bo', label='Training accuracy')\n",
    "    plt.plot(epochs, val_acc, 'orange', label = 'Validation accuracy')\n",
    "    plt.title('Training and Validation Accuracy')\n",
    "    plt.legend()\n",
    "    plt.show()"
   ]
  },
  {
   "cell_type": "code",
   "execution_count": 4,
   "id": "c3999b72",
   "metadata": {},
   "outputs": [
    {
     "name": "stdout",
     "output_type": "stream",
     "text": [
      "Found 60000 images belonging to 2 classes.\n",
      "Found 12000 images belonging to 2 classes.\n",
      "Found 12000 images belonging to 2 classes.\n"
     ]
    }
   ],
   "source": [
    "base_path = 'real_vs_fake/real-vs-fake/'\n",
    "image_gen = ImageDataGenerator(rescale=1./255.)\n",
    "\n",
    "\n",
    "\n",
    "# image_gen1 = ImageDataGenerator(rescale=1./255.)\n",
    "\n",
    "\n",
    "train_flow = image_gen.flow_from_directory(\n",
    "    base_path + 'train/',\n",
    "    target_size=(224, 224),\n",
    "    batch_size=64,\n",
    "    color_mode='grayscale',\n",
    "    class_mode='binary'\n",
    ")\n",
    "\n",
    "valid_flow = image_gen.flow_from_directory(\n",
    "    base_path + 'valid/',\n",
    "    target_size=(224, 224),\n",
    "    batch_size=64,\n",
    "    color_mode='grayscale',\n",
    "    class_mode='binary'\n",
    ")\n",
    "\n",
    "\n",
    "test_flow = image_gen.flow_from_directory(\n",
    "    base_path + 'test/',\n",
    "    target_size=(224, 224),\n",
    "    batch_size=1,\n",
    "    color_mode='grayscale',\n",
    "    shuffle = False,\n",
    "    class_mode='binary'\n",
    ")"
   ]
  },
  {
   "cell_type": "code",
   "execution_count": 5,
   "id": "151043a2",
   "metadata": {},
   "outputs": [
    {
     "name": "stdout",
     "output_type": "stream",
     "text": [
      "Model: \"sequential\"\n",
      "_________________________________________________________________\n",
      " Layer (type)                Output Shape              Param #   \n",
      "=================================================================\n",
      " densenet121 (Functional)    (None, 7, 7, 1024)        7031232   \n",
      "                                                                 \n",
      " global_average_pooling2d (G  (None, 1024)             0         \n",
      " lobalAveragePooling2D)                                          \n",
      "                                                                 \n",
      " dense (Dense)               (None, 1)                 1025      \n",
      "                                                                 \n",
      "=================================================================\n",
      "Total params: 7,032,257\n",
      "Trainable params: 6,948,609\n",
      "Non-trainable params: 83,648\n",
      "_________________________________________________________________\n"
     ]
    }
   ],
   "source": [
    "densenet = DenseNet121(\n",
    "    weights=None,\n",
    "    include_top=False,\n",
    "    input_shape=(224,224,1)\n",
    ")\n",
    "model = build_model(densenet)\n",
    "model.summary()"
   ]
  },
  {
   "cell_type": "markdown",
   "id": "07b79833",
   "metadata": {},
   "source": [
    "### Training"
   ]
  },
  {
   "cell_type": "code",
   "execution_count": 6,
   "id": "188fa8db",
   "metadata": {
    "scrolled": false
   },
   "outputs": [
    {
     "name": "stdout",
     "output_type": "stream",
     "text": [
      "Epoch 1/5\n",
      "937/937 [==============================] - 15051s 16s/step - loss: 0.5800 - accuracy: 0.6930 - val_loss: 2.2140 - val_accuracy: 0.4864\n",
      "Epoch 2/5\n",
      "937/937 [==============================] - 15722s 17s/step - loss: 0.4140 - accuracy: 0.8103 - val_loss: 0.5719 - val_accuracy: 0.7467\n",
      "Epoch 3/5\n",
      "937/937 [==============================] - 15250s 16s/step - loss: 0.2777 - accuracy: 0.8834 - val_loss: 0.3191 - val_accuracy: 0.8662\n",
      "Epoch 4/5\n",
      "937/937 [==============================] - 14606s 16s/step - loss: 0.1855 - accuracy: 0.9258 - val_loss: 0.3002 - val_accuracy: 0.8774\n",
      "Epoch 5/5\n",
      "937/937 [==============================] - 14735s 16s/step - loss: 0.1260 - accuracy: 0.9513 - val_loss: 0.1752 - val_accuracy: 0.9306\n"
     ]
    }
   ],
   "source": [
    "train_steps = 60000//64\n",
    "valid_steps = 12000//64\n",
    "\n",
    "history = model.fit(\n",
    "    train_flow,\n",
    "    epochs = 5,\n",
    "    steps_per_epoch = train_steps,\n",
    "    validation_data = valid_flow,\n",
    "    validation_steps = valid_steps \n",
    ")"
   ]
  },
  {
   "cell_type": "code",
   "execution_count": 7,
   "id": "677799e4",
   "metadata": {},
   "outputs": [],
   "source": [
    "model.save('grey_densenet.h5')"
   ]
  },
  {
   "cell_type": "code",
   "execution_count": 8,
   "id": "98e29ae0",
   "metadata": {},
   "outputs": [],
   "source": [
    "acc = history.history['accuracy']\n",
    "val_acc = history.history['val_accuracy']\n",
    "loss = history.history['loss']\n",
    "val_loss = history.history['val_loss']"
   ]
  },
  {
   "cell_type": "code",
   "execution_count": 9,
   "id": "77823dcc",
   "metadata": {},
   "outputs": [
    {
     "data": {
      "image/png": "[encoded data removed]",
      "text/plain": [
       "<Figure size 432x288 with 1 Axes>"
      ]
     },
     "metadata": {
      "needs_background": "light"
     },
     "output_type": "display_data"
    },
    {
     "data": {
      "image/png": "[encoded data removed]",
      "text/plain": [
       "<Figure size 432x288 with 1 Axes>"
      ]
     },
     "metadata": {
      "needs_background": "light"
     },
     "output_type": "display_data"
    }
   ],
   "source": [
    "plot_loss(range(1, len(loss) + 1), loss, val_loss)\n",
    "plot_accuracy(range(1, len(loss) + 1), acc, val_acc)"
   ]
  },
  {
   "cell_type": "code",
   "execution_count": 10,
   "id": "5582745a",
   "metadata": {},
   "outputs": [
    {
     "name": "stdout",
     "output_type": "stream",
     "text": [
      "12000/12000 [==============================] - 1112s 92ms/step\n"
     ]
    }
   ],
   "source": [
    "y_pred = model.predict(test_flow)\n",
    "y_test = test_flow.classes"
   ]
  },
  {
   "cell_type": "code",
   "execution_count": 11,
   "id": "d3d8c4f8",
   "metadata": {},
   "outputs": [
    {
     "name": "stdout",
     "output_type": "stream",
     "text": [
      "ROC-AUC Score: 0.9833113194444444\n",
      "AP Score: 0.9821520912891872\n",
      "\n",
      "              precision    recall  f1-score   support\n",
      "\n",
      "           0       0.94      0.93      0.94      6000\n",
      "           1       0.93      0.95      0.94      6000\n",
      "\n",
      "    accuracy                           0.94     12000\n",
      "   macro avg       0.94      0.94      0.94     12000\n",
      "weighted avg       0.94      0.94      0.94     12000\n",
      "\n"
     ]
    }
   ],
   "source": [
    "print(\"ROC-AUC Score:\", metrics.roc_auc_score(y_test, y_pred))\n",
    "print(\"AP Score:\", metrics.average_precision_score(y_test, y_pred))\n",
    "print()\n",
    "print(metrics.classification_report(y_test, y_pred > 0.5))"
   ]
  },
  {
   "cell_type": "code",
   "execution_count": null,
   "id": "5f4aa65a",
   "metadata": {},
   "outputs": [],
   "source": []
  }
 ],
 "metadata": {
  "kernelspec": {
   "display_name": "Python 3 (ipykernel)",
   "language": "python",
   "name": "python3"
  },
  "language_info": {
   "codemirror_mode": {
    "name": "ipython",
    "version": 3
   },
   "file_extension": ".py",
   "mimetype": "text/x-python",
   "name": "python",
   "nbconvert_exporter": "python",
   "pygments_lexer": "ipython3",
   "version": "3.9.12"
  }
 },
 "nbformat": 4,
 "nbformat_minor": 5
}
